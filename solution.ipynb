{
 "cells": [
  {
   "cell_type": "code",
   "execution_count": 1,
   "id": "e6616bb7",
   "metadata": {},
   "outputs": [],
   "source": [
    "import pandas as pd"
   ]
  },
  {
   "cell_type": "code",
   "execution_count": 2,
   "id": "c2642cd8",
   "metadata": {},
   "outputs": [],
   "source": [
    "df = pd.read_csv(\"data.csv\")"
   ]
  },
  {
   "cell_type": "code",
   "execution_count": 3,
   "id": "3ac2e2de",
   "metadata": {},
   "outputs": [
    {
     "data": {
      "text/html": [
       "<div>\n",
       "<style scoped>\n",
       "    .dataframe tbody tr th:only-of-type {\n",
       "        vertical-align: middle;\n",
       "    }\n",
       "\n",
       "    .dataframe tbody tr th {\n",
       "        vertical-align: top;\n",
       "    }\n",
       "\n",
       "    .dataframe thead th {\n",
       "        text-align: right;\n",
       "    }\n",
       "</style>\n",
       "<table border=\"1\" class=\"dataframe\">\n",
       "  <thead>\n",
       "    <tr style=\"text-align: right;\">\n",
       "      <th></th>\n",
       "      <th>Name</th>\n",
       "      <th>Age</th>\n",
       "      <th>Gender</th>\n",
       "      <th>Salary</th>\n",
       "      <th>Favorite Genre</th>\n",
       "      <th>Play Frequency</th>\n",
       "      <th>Preferred Platform</th>\n",
       "    </tr>\n",
       "  </thead>\n",
       "  <tbody>\n",
       "    <tr>\n",
       "      <th>0</th>\n",
       "      <td>Maud Sporer</td>\n",
       "      <td>22</td>\n",
       "      <td>female</td>\n",
       "      <td>60000</td>\n",
       "      <td>Action/Adventure</td>\n",
       "      <td>1-2 times a week</td>\n",
       "      <td>Mobile Devices</td>\n",
       "    </tr>\n",
       "    <tr>\n",
       "      <th>1</th>\n",
       "      <td>Rene Rippin</td>\n",
       "      <td>45</td>\n",
       "      <td>male</td>\n",
       "      <td>40000</td>\n",
       "      <td>Sports/Simulation</td>\n",
       "      <td>Daily</td>\n",
       "      <td>PlayStation</td>\n",
       "    </tr>\n",
       "    <tr>\n",
       "      <th>2</th>\n",
       "      <td>Llewellyn Hammes</td>\n",
       "      <td>19</td>\n",
       "      <td>male</td>\n",
       "      <td>30000</td>\n",
       "      <td>Sports/Simulation</td>\n",
       "      <td>Never</td>\n",
       "      <td>Nintendo Switch</td>\n",
       "    </tr>\n",
       "    <tr>\n",
       "      <th>3</th>\n",
       "      <td>Emmy Runolfsdottir</td>\n",
       "      <td>48</td>\n",
       "      <td>female</td>\n",
       "      <td>40000</td>\n",
       "      <td>Strategy</td>\n",
       "      <td>Occasionally</td>\n",
       "      <td>PlayStation</td>\n",
       "    </tr>\n",
       "    <tr>\n",
       "      <th>4</th>\n",
       "      <td>Tillman Larkin</td>\n",
       "      <td>73</td>\n",
       "      <td>male</td>\n",
       "      <td>40000</td>\n",
       "      <td>Role-Playing Games (RPGs)</td>\n",
       "      <td>3-6 times a week</td>\n",
       "      <td>PlayStation</td>\n",
       "    </tr>\n",
       "  </tbody>\n",
       "</table>\n",
       "</div>"
      ],
      "text/plain": [
       "                 Name  Age  Gender  Salary             Favorite Genre  \\\n",
       "0         Maud Sporer   22  female   60000           Action/Adventure   \n",
       "1         Rene Rippin   45    male   40000          Sports/Simulation   \n",
       "2    Llewellyn Hammes   19    male   30000          Sports/Simulation   \n",
       "3  Emmy Runolfsdottir   48  female   40000                   Strategy   \n",
       "4      Tillman Larkin   73    male   40000  Role-Playing Games (RPGs)   \n",
       "\n",
       "     Play Frequency Preferred Platform  \n",
       "0  1-2 times a week     Mobile Devices  \n",
       "1             Daily        PlayStation  \n",
       "2             Never    Nintendo Switch  \n",
       "3      Occasionally        PlayStation  \n",
       "4  3-6 times a week        PlayStation  "
      ]
     },
     "execution_count": 3,
     "metadata": {},
     "output_type": "execute_result"
    }
   ],
   "source": [
    "df.head()"
   ]
  },
  {
   "cell_type": "code",
   "execution_count": 4,
   "id": "8d73fa8d",
   "metadata": {},
   "outputs": [
    {
     "name": "stdout",
     "output_type": "stream",
     "text": [
      "<class 'pandas.core.frame.DataFrame'>\n",
      "RangeIndex: 1000 entries, 0 to 999\n",
      "Data columns (total 7 columns):\n",
      " #   Column              Non-Null Count  Dtype \n",
      "---  ------              --------------  ----- \n",
      " 0   Name                1000 non-null   object\n",
      " 1   Age                 1000 non-null   int64 \n",
      " 2   Gender              1000 non-null   object\n",
      " 3   Salary              1000 non-null   int64 \n",
      " 4   Favorite Genre      1000 non-null   object\n",
      " 5   Play Frequency      1000 non-null   object\n",
      " 6   Preferred Platform  1000 non-null   object\n",
      "dtypes: int64(2), object(5)\n",
      "memory usage: 54.8+ KB\n"
     ]
    }
   ],
   "source": [
    "df.info()"
   ]
  },
  {
   "cell_type": "code",
   "execution_count": 7,
   "id": "3527be69",
   "metadata": {},
   "outputs": [],
   "source": [
    "df.columns = df.columns.str.lower().str.replace(\" \", \"_\")"
   ]
  },
  {
   "cell_type": "code",
   "execution_count": 8,
   "id": "003d515a",
   "metadata": {},
   "outputs": [
    {
     "data": {
      "text/html": [
       "<div>\n",
       "<style scoped>\n",
       "    .dataframe tbody tr th:only-of-type {\n",
       "        vertical-align: middle;\n",
       "    }\n",
       "\n",
       "    .dataframe tbody tr th {\n",
       "        vertical-align: top;\n",
       "    }\n",
       "\n",
       "    .dataframe thead th {\n",
       "        text-align: right;\n",
       "    }\n",
       "</style>\n",
       "<table border=\"1\" class=\"dataframe\">\n",
       "  <thead>\n",
       "    <tr style=\"text-align: right;\">\n",
       "      <th></th>\n",
       "      <th>name</th>\n",
       "      <th>age</th>\n",
       "      <th>gender</th>\n",
       "      <th>salary</th>\n",
       "      <th>favorite_genre</th>\n",
       "      <th>play_frequency</th>\n",
       "      <th>preferred_platform</th>\n",
       "    </tr>\n",
       "  </thead>\n",
       "  <tbody>\n",
       "    <tr>\n",
       "      <th>0</th>\n",
       "      <td>Maud Sporer</td>\n",
       "      <td>22</td>\n",
       "      <td>female</td>\n",
       "      <td>60000</td>\n",
       "      <td>Action/Adventure</td>\n",
       "      <td>1-2 times a week</td>\n",
       "      <td>Mobile Devices</td>\n",
       "    </tr>\n",
       "    <tr>\n",
       "      <th>1</th>\n",
       "      <td>Rene Rippin</td>\n",
       "      <td>45</td>\n",
       "      <td>male</td>\n",
       "      <td>40000</td>\n",
       "      <td>Sports/Simulation</td>\n",
       "      <td>Daily</td>\n",
       "      <td>PlayStation</td>\n",
       "    </tr>\n",
       "    <tr>\n",
       "      <th>2</th>\n",
       "      <td>Llewellyn Hammes</td>\n",
       "      <td>19</td>\n",
       "      <td>male</td>\n",
       "      <td>30000</td>\n",
       "      <td>Sports/Simulation</td>\n",
       "      <td>Never</td>\n",
       "      <td>Nintendo Switch</td>\n",
       "    </tr>\n",
       "    <tr>\n",
       "      <th>3</th>\n",
       "      <td>Emmy Runolfsdottir</td>\n",
       "      <td>48</td>\n",
       "      <td>female</td>\n",
       "      <td>40000</td>\n",
       "      <td>Strategy</td>\n",
       "      <td>Occasionally</td>\n",
       "      <td>PlayStation</td>\n",
       "    </tr>\n",
       "    <tr>\n",
       "      <th>4</th>\n",
       "      <td>Tillman Larkin</td>\n",
       "      <td>73</td>\n",
       "      <td>male</td>\n",
       "      <td>40000</td>\n",
       "      <td>Role-Playing Games (RPGs)</td>\n",
       "      <td>3-6 times a week</td>\n",
       "      <td>PlayStation</td>\n",
       "    </tr>\n",
       "    <tr>\n",
       "      <th>...</th>\n",
       "      <td>...</td>\n",
       "      <td>...</td>\n",
       "      <td>...</td>\n",
       "      <td>...</td>\n",
       "      <td>...</td>\n",
       "      <td>...</td>\n",
       "      <td>...</td>\n",
       "    </tr>\n",
       "    <tr>\n",
       "      <th>995</th>\n",
       "      <td>Raoul O'Connell</td>\n",
       "      <td>24</td>\n",
       "      <td>male</td>\n",
       "      <td>30000</td>\n",
       "      <td>Sports/Simulation</td>\n",
       "      <td>3-6 times a week</td>\n",
       "      <td>Mobile Devices</td>\n",
       "    </tr>\n",
       "    <tr>\n",
       "      <th>996</th>\n",
       "      <td>Stewart Sipes</td>\n",
       "      <td>55</td>\n",
       "      <td>male</td>\n",
       "      <td>50000</td>\n",
       "      <td>Action/Adventure</td>\n",
       "      <td>3-6 times a week</td>\n",
       "      <td>Mobile Devices</td>\n",
       "    </tr>\n",
       "    <tr>\n",
       "      <th>997</th>\n",
       "      <td>Justine Kuhn</td>\n",
       "      <td>51</td>\n",
       "      <td>female</td>\n",
       "      <td>80000</td>\n",
       "      <td>Racing</td>\n",
       "      <td>Daily</td>\n",
       "      <td>Mobile Devices</td>\n",
       "    </tr>\n",
       "    <tr>\n",
       "      <th>998</th>\n",
       "      <td>Oran Stoltenberg</td>\n",
       "      <td>30</td>\n",
       "      <td>male</td>\n",
       "      <td>50000</td>\n",
       "      <td>Sports/Simulation</td>\n",
       "      <td>3-6 times a week</td>\n",
       "      <td>PC (Personal Computer)</td>\n",
       "    </tr>\n",
       "    <tr>\n",
       "      <th>999</th>\n",
       "      <td>Clarissa Wiegand</td>\n",
       "      <td>17</td>\n",
       "      <td>female</td>\n",
       "      <td>100000</td>\n",
       "      <td>Action/Adventure</td>\n",
       "      <td>3-6 times a week</td>\n",
       "      <td>PC (Personal Computer)</td>\n",
       "    </tr>\n",
       "  </tbody>\n",
       "</table>\n",
       "<p>1000 rows × 7 columns</p>\n",
       "</div>"
      ],
      "text/plain": [
       "                   name  age  gender  salary             favorite_genre  \\\n",
       "0           Maud Sporer   22  female   60000           Action/Adventure   \n",
       "1           Rene Rippin   45    male   40000          Sports/Simulation   \n",
       "2      Llewellyn Hammes   19    male   30000          Sports/Simulation   \n",
       "3    Emmy Runolfsdottir   48  female   40000                   Strategy   \n",
       "4        Tillman Larkin   73    male   40000  Role-Playing Games (RPGs)   \n",
       "..                  ...  ...     ...     ...                        ...   \n",
       "995     Raoul O'Connell   24    male   30000          Sports/Simulation   \n",
       "996       Stewart Sipes   55    male   50000           Action/Adventure   \n",
       "997        Justine Kuhn   51  female   80000                     Racing   \n",
       "998    Oran Stoltenberg   30    male   50000          Sports/Simulation   \n",
       "999    Clarissa Wiegand   17  female  100000           Action/Adventure   \n",
       "\n",
       "       play_frequency      preferred_platform  \n",
       "0    1-2 times a week          Mobile Devices  \n",
       "1               Daily             PlayStation  \n",
       "2               Never         Nintendo Switch  \n",
       "3        Occasionally             PlayStation  \n",
       "4    3-6 times a week             PlayStation  \n",
       "..                ...                     ...  \n",
       "995  3-6 times a week          Mobile Devices  \n",
       "996  3-6 times a week          Mobile Devices  \n",
       "997             Daily          Mobile Devices  \n",
       "998  3-6 times a week  PC (Personal Computer)  \n",
       "999  3-6 times a week  PC (Personal Computer)  \n",
       "\n",
       "[1000 rows x 7 columns]"
      ]
     },
     "execution_count": 8,
     "metadata": {},
     "output_type": "execute_result"
    }
   ],
   "source": [
    "df"
   ]
  },
  {
   "cell_type": "code",
   "execution_count": 14,
   "id": "0a2c27ef",
   "metadata": {},
   "outputs": [],
   "source": [
    "df[\"name\"] = df[\"name\"].astype(\"string\")"
   ]
  },
  {
   "cell_type": "code",
   "execution_count": 15,
   "id": "b513cab4",
   "metadata": {},
   "outputs": [
    {
     "name": "stdout",
     "output_type": "stream",
     "text": [
      "<class 'pandas.core.frame.DataFrame'>\n",
      "RangeIndex: 1000 entries, 0 to 999\n",
      "Data columns (total 7 columns):\n",
      " #   Column              Non-Null Count  Dtype \n",
      "---  ------              --------------  ----- \n",
      " 0   name                1000 non-null   string\n",
      " 1   age                 1000 non-null   int64 \n",
      " 2   gender              1000 non-null   object\n",
      " 3   salary              1000 non-null   int64 \n",
      " 4   favorite_genre      1000 non-null   object\n",
      " 5   play_frequency      1000 non-null   object\n",
      " 6   preferred_platform  1000 non-null   object\n",
      "dtypes: int64(2), object(4), string(1)\n",
      "memory usage: 54.8+ KB\n"
     ]
    }
   ],
   "source": [
    "df.info()"
   ]
  },
  {
   "cell_type": "code",
   "execution_count": 17,
   "id": "576a58ab",
   "metadata": {},
   "outputs": [],
   "source": [
    "df[\"favorite_genre\"] = df[\"favorite_genre\"].astype(\"category\")"
   ]
  },
  {
   "cell_type": "code",
   "execution_count": 18,
   "id": "2b6574a6",
   "metadata": {},
   "outputs": [
    {
     "name": "stdout",
     "output_type": "stream",
     "text": [
      "<class 'pandas.core.frame.DataFrame'>\n",
      "RangeIndex: 1000 entries, 0 to 999\n",
      "Data columns (total 7 columns):\n",
      " #   Column              Non-Null Count  Dtype   \n",
      "---  ------              --------------  -----   \n",
      " 0   name                1000 non-null   string  \n",
      " 1   age                 1000 non-null   int64   \n",
      " 2   gender              1000 non-null   object  \n",
      " 3   salary              1000 non-null   int64   \n",
      " 4   favorite_genre      1000 non-null   category\n",
      " 5   play_frequency      1000 non-null   object  \n",
      " 6   preferred_platform  1000 non-null   object  \n",
      "dtypes: category(1), int64(2), object(3), string(1)\n",
      "memory usage: 48.3+ KB\n"
     ]
    }
   ],
   "source": [
    "df.info()"
   ]
  },
  {
   "cell_type": "code",
   "execution_count": 19,
   "id": "f771d8ba",
   "metadata": {},
   "outputs": [],
   "source": [
    "df[\"play_frequency\"] = df[\"play_frequency\"].astype(\"category\")"
   ]
  },
  {
   "cell_type": "code",
   "execution_count": 20,
   "id": "76487d84",
   "metadata": {},
   "outputs": [],
   "source": [
    "df[\"preferred_platform\"] = df[\"preferred_platform\"].astype(\"category\")"
   ]
  },
  {
   "cell_type": "code",
   "execution_count": 21,
   "id": "b568a18f",
   "metadata": {},
   "outputs": [
    {
     "name": "stdout",
     "output_type": "stream",
     "text": [
      "<class 'pandas.core.frame.DataFrame'>\n",
      "RangeIndex: 1000 entries, 0 to 999\n",
      "Data columns (total 7 columns):\n",
      " #   Column              Non-Null Count  Dtype   \n",
      "---  ------              --------------  -----   \n",
      " 0   name                1000 non-null   string  \n",
      " 1   age                 1000 non-null   int64   \n",
      " 2   gender              1000 non-null   object  \n",
      " 3   salary              1000 non-null   int64   \n",
      " 4   favorite_genre      1000 non-null   category\n",
      " 5   play_frequency      1000 non-null   category\n",
      " 6   preferred_platform  1000 non-null   category\n",
      "dtypes: category(3), int64(2), object(1), string(1)\n",
      "memory usage: 35.1+ KB\n"
     ]
    }
   ],
   "source": [
    "df.info()"
   ]
  },
  {
   "cell_type": "code",
   "execution_count": null,
   "id": "d3eb9349",
   "metadata": {},
   "outputs": [],
   "source": []
  }
 ],
 "metadata": {
  "kernelspec": {
   "display_name": "Python 3 (ipykernel)",
   "language": "python",
   "name": "python3"
  },
  "language_info": {
   "codemirror_mode": {
    "name": "ipython",
    "version": 3
   },
   "file_extension": ".py",
   "mimetype": "text/x-python",
   "name": "python",
   "nbconvert_exporter": "python",
   "pygments_lexer": "ipython3",
   "version": "3.9.13"
  }
 },
 "nbformat": 4,
 "nbformat_minor": 5
}
